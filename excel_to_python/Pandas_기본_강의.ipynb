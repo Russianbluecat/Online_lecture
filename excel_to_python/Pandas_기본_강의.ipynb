{
 "cells": [
  {
   "cell_type": "markdown",
   "metadata": {},
   "source": [
    "강의 출처 : https://www.youtube.com/playlist?list=PLrpXwtuxGqcIIf_SpCWg04MoHf1yJUCvi\n"
   ]
  },
  {
   "cell_type": "code",
   "execution_count": null,
   "metadata": {},
   "outputs": [],
   "source": [
    "#엑셀 데이터 읽어 오기 \n",
    "import pandas as pd \n",
    "\n",
    "df = pd.read_excel('E00EXAMPLE.xlsx')\n",
    "df"
   ]
  },
  {
   "cell_type": "code",
   "execution_count": null,
   "metadata": {},
   "outputs": [],
   "source": [
    "df1 = df.iloc[0:3,0:5] #행열 슬라이싱 \n",
    "df1"
   ]
  },
  {
   "cell_type": "code",
   "execution_count": null,
   "metadata": {},
   "outputs": [],
   "source": [
    "#Sorting\n",
    "df.sort_values([\"영어\",\"국어\"], ascending=False)"
   ]
  },
  {
   "cell_type": "markdown",
   "metadata": {},
   "source": [
    "#배열의 연산? \n",
    "#데이터 프레임끼리의 연산하기 "
   ]
  },
  {
   "cell_type": "markdown",
   "metadata": {},
   "source": [
    "판다스 끼리라면 같은 컬럼 * 같은 인덱스 끼리의 연산"
   ]
  },
  {
   "cell_type": "code",
   "execution_count": null,
   "metadata": {},
   "outputs": [],
   "source": [
    "import pandas as pd\n",
    "a1 = [[1,2,3], [4,5,6,], [7,8,9]]\n",
    "df1 = pd.DataFrame(a1, columns=list(\"ABC\"), index=list(\"가나다\"))\n",
    "df2 = df1.reindex(columns=list(\"BCA\"), index=list(\"나다가\")).copy()\n",
    "sr1 = df1.loc[\"가\"]\n",
    "df3 = df1.iloc[:2,:2]"
   ]
  },
  {
   "cell_type": "code",
   "execution_count": null,
   "metadata": {},
   "outputs": [],
   "source": [
    "df3"
   ]
  },
  {
   "cell_type": "code",
   "execution_count": null,
   "metadata": {},
   "outputs": [],
   "source": [
    "df2.sort_index(ascending=True)"
   ]
  },
  {
   "cell_type": "code",
   "execution_count": null,
   "metadata": {},
   "outputs": [],
   "source": [
    "df1"
   ]
  },
  {
   "cell_type": "code",
   "execution_count": null,
   "metadata": {},
   "outputs": [],
   "source": [
    "#df1*df1\n",
    "#df1+df2\n",
    "#df1 + df3 #열과 행이 안맞으니 NaN 으로 나옴 \n",
    "df1.add(df3,fill_value=0) #df3와 df1 행 열 일부 안맞음 df1 에는 있는데 df3에 없으면 그냥 0을 더했다고 칩시다"
   ]
  },
  {
   "cell_type": "code",
   "execution_count": null,
   "metadata": {},
   "outputs": [],
   "source": [
    "df1+sr1\n",
    "df1.add(sr1,axis=1)\n",
    "#df1.add(sr1,axis=0)"
   ]
  },
  {
   "cell_type": "markdown",
   "metadata": {},
   "source": [
    "#Boolean Indexing"
   ]
  },
  {
   "cell_type": "code",
   "execution_count": null,
   "metadata": {},
   "outputs": [],
   "source": [
    "import pandas as pd\n",
    "import numpy as np\n",
    "a1 = [60, 84, 80, 70, \"문예부\"]\n",
    "a2 = [77, 62, 95, 85, \"과학부\"]\n",
    "a3 = [61, 97, 72, np.nan, \"농구부\"]\n",
    "a4 = [75, 65, 95, np.nan, \"다도부\"]\n",
    "cols = [\"국어\", \"영어\", \"수학\", \"과학\", \"소속\"]\n",
    "b1 = [\"문예부\", \"과학부\", \"다도부\"]\n",
    "df = pd.DataFrame([a1, a2, a3, a4], index=list(\"ABCD\"), columns=cols)"
   ]
  },
  {
   "cell_type": "code",
   "execution_count": null,
   "metadata": {},
   "outputs": [],
   "source": [
    "df"
   ]
  },
  {
   "cell_type": "code",
   "execution_count": null,
   "metadata": {},
   "outputs": [],
   "source": [
    "#영어 성적 80 이상인 사람만 뽑아보기 \n",
    "#df[\"영어\"]\n",
    "#df[\"영어\"]>80\n",
    "#df.loc[df[\"영어\"]>80]\n",
    "cond1 = df[\"영어\"]>80\n",
    "df.loc[cond1,\"국어\":\"과학\"]"
   ]
  },
  {
   "cell_type": "code",
   "execution_count": null,
   "metadata": {},
   "outputs": [],
   "source": [
    "#조건이 두 개 라면 \n",
    "cond1 = df[\"국어\"]>60\n",
    "cond2 = df[\"영어\"]>80 \n",
    "\n",
    "df.loc[cond1&cond2,\"국어\":\"과학\"]"
   ]
  },
  {
   "cell_type": "code",
   "execution_count": null,
   "metadata": {},
   "outputs": [],
   "source": [
    "df[\"과학\"].isnull()\n",
    "#과학 = NaN 이 아닌 값만 추출 \n",
    "cond1 = df[\"과학\"].isnull()\n",
    "df[~cond1] #cond1 가 아닌 거 "
   ]
  },
  {
   "cell_type": "code",
   "execution_count": null,
   "metadata": {},
   "outputs": [],
   "source": [
    "cond1 = df[\"과학\"].isnull()\n",
    "cond2 = df[\"수학\"]>90\n",
    "df[~cond1|cond2] #or 조건"
   ]
  },
  {
   "cell_type": "code",
   "execution_count": null,
   "metadata": {},
   "outputs": [],
   "source": [
    "#isin 조건 \n",
    "df[\"소속\"].isin(b1)\n",
    "df.loc[df[\"소속\"].isin(b1)]"
   ]
  },
  {
   "cell_type": "markdown",
   "metadata": {},
   "source": [
    "# index + Column 다루기 "
   ]
  },
  {
   "cell_type": "markdown",
   "metadata": {},
   "source": []
  },
  {
   "cell_type": "code",
   "execution_count": null,
   "metadata": {},
   "outputs": [],
   "source": [
    "import pandas as pd\n",
    "df1 = pd.DataFrame([[\"파이전자\", 20, 30, 30, 40, \"반도체\"], \n",
    "                   [\"썬닉스\", 100, 90, 80, 100, \"반도체\"], \n",
    "                   [\"판다센\", 300, 320, 340, 0, \"게임\"], \n",
    "                   [\"스마블\", 0, 450, 300, 300, \"게임\"]], \n",
    "                  columns=[\"종목\", \"A팀\", \"B팀\", \"C팀\", \"D팀\", \"분류\"])\n",
    "s1 = pd.Series([35000, 10000, 2000, 5000], index=list(df1[\"종목\"]))\n",
    "df2 = df1.set_index(\"종목\").iloc[:,:4].mul(s1, axis=0)\n",
    "df2 = df2.reindex([\"D팀\", \"C팀\", \"B팀\", \"A팀\", \"분류\"], axis=1).reset_index()\n",
    "df2[\"분류\"] = df1[\"분류\"]\n",
    "df1"
   ]
  },
  {
   "cell_type": "markdown",
   "metadata": {},
   "source": [
    "1.df.index, df.column을 확인한다 \n",
    "2.index를 설정한다 set_index \n",
    "3.index를 리셋한다 reset_index \n",
    "4.index의 순서를 바꿔본다 reindex \n",
    "5.index의 이름을 바꾼다 직접 입력 혹은 rename \n",
    "6.index를 정렬한다 sort_index "
   ]
  },
  {
   "cell_type": "code",
   "execution_count": null,
   "metadata": {},
   "outputs": [],
   "source": [
    "list(df1.index)\n",
    "#list(df1.columns)\n",
    "#df1.index #함수가 아니라서 괄호 노노 "
   ]
  },
  {
   "cell_type": "code",
   "execution_count": null,
   "metadata": {},
   "outputs": [],
   "source": [
    "#df1의 종목 열에 있는 값들을 index 로 지정하기 \n",
    "#df1.set_index([\"분류\",\"종목\"])\n",
    "df1.set_index(\"종목\")"
   ]
  },
  {
   "cell_type": "code",
   "execution_count": null,
   "metadata": {},
   "outputs": [],
   "source": [
    "df1.set_index([\"종목\",\"분류\"])#,drop=False)) #drop = False 면 원래 있었던 종목, 분류를 인덱스 하면서도 기존 자리에 남겨주자 이런 의미임 "
   ]
  },
  {
   "cell_type": "code",
   "execution_count": null,
   "metadata": {},
   "outputs": [],
   "source": [
    "df3 = df1.loc[df1[\"종목\"] != \"판다센\"]\n",
    "df3.reset_index(drop = True) # 기존 인덱스 탈락 "
   ]
  },
  {
   "cell_type": "code",
   "execution_count": null,
   "metadata": {},
   "outputs": [],
   "source": [
    "#df3.T #전치 행렬을 뽑아내는 numpy 기법? \n",
    "df3.T.reset_index().T"
   ]
  },
  {
   "cell_type": "code",
   "execution_count": null,
   "metadata": {},
   "outputs": [],
   "source": [
    "df1.reindex(columns = [\"종목\",\"B팀\",\"A팀\",\"D팀\",\"C팀\",\"분류\"])"
   ]
  },
  {
   "cell_type": "code",
   "execution_count": null,
   "metadata": {},
   "outputs": [],
   "source": [
    "df1.reindex(columns = df2.columns)"
   ]
  },
  {
   "cell_type": "code",
   "execution_count": null,
   "metadata": {},
   "outputs": [],
   "source": [
    "df1.reindex(columns = [\"종목\",\"A팀\",\"D팀\",\"E팀\"],fill_value = 0)"
   ]
  },
  {
   "cell_type": "code",
   "execution_count": null,
   "metadata": {},
   "outputs": [],
   "source": [
    "#rename \n",
    "\n",
    "df1.rename(columns={\"A팀\":\"Ai팀\"})"
   ]
  },
  {
   "cell_type": "code",
   "execution_count": null,
   "metadata": {},
   "outputs": [],
   "source": [
    "#column sorting \n",
    "df2.sort_index(axis=1)"
   ]
  },
  {
   "cell_type": "markdown",
   "metadata": {},
   "source": [
    "#Pivot Table"
   ]
  },
  {
   "cell_type": "code",
   "execution_count": null,
   "metadata": {},
   "outputs": [],
   "source": [
    "import pandas as pd \n",
    "\n",
    "a1 = ['송중기', '이유빈', '권보아', '차유람', '박보검', '김범수',  '이효리', '유승호', '김유정']\n",
    "a2 = list(\"남여여여남남여남여\")\n",
    "a3 = list(\"AAABBBCCC\")\n",
    "a4 = [97, 88, 78, 64, 84, 89, 87, 92, 99]\n",
    "a5 = [i + \"등\" for i in list(\"123321321\")]\n",
    "a6 = [i + \"시\" for i in list(\"수정정수수수정정수\")]\n",
    "a7 = ['이름', '성별', '반', '점수', '반등수', '비고']\n"
   ]
  },
  {
   "cell_type": "code",
   "execution_count": null,
   "metadata": {},
   "outputs": [],
   "source": [
    "\n",
    "df = pd.DataFrame([a1, a2, a3, a4, a5, a6], index=a7, columns=list(range(1, 10))).T\n",
    "df[\"점수\"] = df[\"점수\"].astype(int)\n",
    "df.head(4)"
   ]
  },
  {
   "cell_type": "markdown",
   "metadata": {},
   "source": [
    "1. df를 피벗테이블로 만들어본다 \n",
    "2. df를 멀티 인덱스 피벗테이블로 만들어본다 \n",
    "3. 숫자 아니고 문자열이 담긴 열을 values로 df를 피벗해본다 \n",
    "\n",
    "df.pivot_table(df, index = [열1, 열2], column = [열1, 열2], aggfunc = 집계함수)"
   ]
  },
  {
   "cell_type": "code",
   "execution_count": null,
   "metadata": {},
   "outputs": [],
   "source": [
    "df.pivot_table(\"점수\", index = \"반\", columns=\"성별\",aggfunc='mean')"
   ]
  },
  {
   "cell_type": "code",
   "execution_count": null,
   "metadata": {},
   "outputs": [],
   "source": [
    "df.pivot_table(\"점수\", index = [\"반\",\"성별\"], columns=\"비고\",aggfunc='mean',fill_value=0)"
   ]
  },
  {
   "cell_type": "code",
   "execution_count": null,
   "metadata": {},
   "outputs": [],
   "source": [
    "#엑셀 내보내기 \n",
    "pivot_df = df.pivot_table(\"점수\", index = \"반\", columns=\"성별\",aggfunc='mean')\n",
    "pivot_df.to_excel(\"Practice_excel.xlsx\", sheet_name=\"Pivot\")"
   ]
  },
  {
   "cell_type": "code",
   "execution_count": null,
   "metadata": {},
   "outputs": [],
   "source": [
    "#문자열을 values 로 쓰려면 pivot_table 이 아닌 pivot 함수 써야 함 \n",
    "df.pivot(values=\"이름\",index = \"반\",columns = \"반등수\")"
   ]
  }
 ],
 "metadata": {
  "kernelspec": {
   "display_name": "Python 3",
   "language": "python",
   "name": "python3"
  },
  "language_info": {
   "codemirror_mode": {
    "name": "ipython",
    "version": 3
   },
   "file_extension": ".py",
   "mimetype": "text/x-python",
   "name": "python",
   "nbconvert_exporter": "python",
   "pygments_lexer": "ipython3",
   "version": "3.12.2"
  }
 },
 "nbformat": 4,
 "nbformat_minor": 2
}
