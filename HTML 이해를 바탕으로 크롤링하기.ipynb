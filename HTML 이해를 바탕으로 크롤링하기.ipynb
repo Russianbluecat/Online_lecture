{
 "cells": [
  {
   "cell_type": "code",
   "execution_count": 3,
   "metadata": {},
   "outputs": [
    {
     "name": "stdout",
     "output_type": "stream",
     "text": [
      "미사일 내리꽂히더니 ‘쾅’… 러, 우크라 어린이병원 폭격 36명 사망\n"
     ]
    }
   ],
   "source": [
    "# 크롤링 패턴 \n",
    "\n",
    "import requests # 라이브러리 임포트 \n",
    "from bs4 import BeautifulSoup\n",
    "\n",
    "res = requests.get('https://n.news.naver.com/article/023/0003845080') #웹페이지 갖고 오기 \n",
    " \n",
    "soup = BeautifulSoup(res.content,'html.parser') #웹페이지 파싱하기\n",
    "\n",
    "mydata = soup.find('title') #필요한 데이터 추출하기 \n",
    "\n",
    "print(mydata.get_text()) #추출한 데이터 활용하기 "
   ]
  },
  {
   "cell_type": "code",
   "execution_count": null,
   "metadata": {},
   "outputs": [],
   "source": [
    "res = requests.get('https://n.news.naver.com/article/023/0003845080')\n",
    "res.content"
   ]
  },
  {
   "cell_type": "code",
   "execution_count": null,
   "metadata": {},
   "outputs": [],
   "source": [
    "soup = BeautifulSoup(res.content,'html.parser')\n",
    "soup"
   ]
  },
  {
   "cell_type": "code",
   "execution_count": 7,
   "metadata": {},
   "outputs": [
    {
     "data": {
      "text/plain": [
       "<title>미사일 내리꽂히더니 ‘쾅’… 러, 우크라 어린이병원 폭격 36명 사망</title>"
      ]
     },
     "execution_count": 7,
     "metadata": {},
     "output_type": "execute_result"
    }
   ],
   "source": [
    "soup.find('title')"
   ]
  },
  {
   "cell_type": "code",
   "execution_count": 11,
   "metadata": {},
   "outputs": [
    {
     "name": "stdout",
     "output_type": "stream",
     "text": [
      "웹페이지에서 필요한 데이터를 추출하는 것\n",
      "웹페이지에서 필요한 데이터를 추출하는 것\n",
      "웹페이지에서 필요한 데이터를 추출하는 것\n",
      "파이썬을 중심으로 다양한 웹크롤링 기술 발달\n"
     ]
    }
   ],
   "source": [
    "from bs4 import BeautifulSoup\n",
    "html = \"\"\"\n",
    "        <html> \n",
    "            <body> \n",
    "                <h1 id='title'>[1]크롤링이란?</h1> \n",
    "                <p class='cssstyle'>웹페이지에서 필요한 데이터를 추출하는 것</p> \n",
    "                <p id='body' align='center'>파이썬을 중심으로 다양한 웹크롤링 기술 발달</p> \n",
    "            </body> \n",
    "        </html>\n",
    "        \"\"\"\n",
    "soup =BeautifulSoup(html, 'html.parser')\n",
    "data1 = soup.find('p', class_='cssstyle')\n",
    "data2 = soup.find('p','cssstyle')\n",
    "data3 = soup.find('p', attrs = {'class':'cssstyle'})\n",
    "data4 = soup.find('p', attrs ={'id':'body','align':'center'})\n",
    "print(data1.string)\n",
    "print(data2.string)\n",
    "print(data3.string)\n",
    "print(data4.string)\n"
   ]
  },
  {
   "cell_type": "markdown",
   "metadata": {},
   "source": [
    "find all 함수 이용하기 "
   ]
  },
  {
   "cell_type": "code",
   "execution_count": 14,
   "metadata": {},
   "outputs": [
    {
     "name": "stdout",
     "output_type": "stream",
     "text": [
      "웹페이지에서 필요한 데이터를 추출하는 것\n",
      "파이썬을 중심으로 다양한 웹크롤링 기술 발달\n"
     ]
    }
   ],
   "source": [
    "from bs4 import BeautifulSoup\n",
    "html = \"\"\"\n",
    "        <html> \n",
    "            <body> \n",
    "                <h1 id='title'>[1]크롤링이란?</h1> \n",
    "                <p class='cssstyle'>웹페이지에서 필요한 데이터를 추출하는 것</p> \n",
    "                <p id='body' align='center'>파이썬을 중심으로 다양한 웹크롤링 기술 발달</p> \n",
    "            </body> \n",
    "        </html>\n",
    "        \"\"\"\n",
    "soup =BeautifulSoup(html, 'html.parser')\n",
    "data5 = soup.find_all('p')\n",
    "for item in data5:\n",
    "    print(item.string)\n"
   ]
  }
 ],
 "metadata": {
  "kernelspec": {
   "display_name": "Python 3",
   "language": "python",
   "name": "python3"
  },
  "language_info": {
   "codemirror_mode": {
    "name": "ipython",
    "version": 3
   },
   "file_extension": ".py",
   "mimetype": "text/x-python",
   "name": "python",
   "nbconvert_exporter": "python",
   "pygments_lexer": "ipython3",
   "version": "3.12.2"
  }
 },
 "nbformat": 4,
 "nbformat_minor": 2
}
